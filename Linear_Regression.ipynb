{
  "nbformat": 4,
  "nbformat_minor": 0,
  "metadata": {
    "colab": {
      "name": "Linear Regression",
      "provenance": [],
      "collapsed_sections": [],
      "authorship_tag": "ABX9TyPa5rj965ySbIrBUx6c+lAy",
      "include_colab_link": true
    },
    "kernelspec": {
      "name": "python3",
      "display_name": "Python 3"
    },
    "language_info": {
      "name": "python"
    }
  },
  "cells": [
    {
      "cell_type": "markdown",
      "metadata": {
        "id": "view-in-github",
        "colab_type": "text"
      },
      "source": [
        "<a href=\"https://colab.research.google.com/github/OmPanchal/Linear-Regression/blob/main/Linear_Regression.ipynb\" target=\"_parent\"><img src=\"https://colab.research.google.com/assets/colab-badge.svg\" alt=\"Open In Colab\"/></a>"
      ]
    },
    {
      "cell_type": "code",
      "execution_count": null,
      "metadata": {
        "id": "ry2srRtg2kWM",
        "colab": {
          "base_uri": "https://localhost:8080/"
        },
        "outputId": "0c5ccaad-6d9c-42bb-cc61-ff0b15549d5f"
      },
      "outputs": [
        {
          "output_type": "stream",
          "name": "stdout",
          "text": [
            "0.453781512605042\n"
          ]
        }
      ],
      "source": [
        "import pandas as pd\n",
        "from sklearn.model_selection import train_test_split\n",
        "from sklearn import linear_model\n",
        "from sklearn.metrics import accuracy_score\n",
        "import pickle\n",
        "\n",
        "df = pd.read_csv(\"student-mat.csv\", sep=\";\")\n",
        "\n",
        "# X values are the variables that you input\n",
        "X = df[[\"traveltime\", \"studytime\", \"failures\", \"absences\",\"G1\", \"G2\"]]\n",
        "# Y is what you are trying to measure\n",
        "Y = df[\"G3\"]\n",
        "\n",
        "X_train, X_test, y_train, y_test = train_test_split(X, Y, test_size=0.3, shuffle=True)\n",
        "\n",
        "lin_reg = linear_model.LinearRegression()\n",
        "\n",
        "lin_reg.fit(X_train,y_train)\n",
        "\n",
        "# Model can be saved using a pickle file\n",
        "pickle.dump(lin_reg, open(\"model\", 'wb'))\n",
        "\n",
        "predicted = list(map(round,lin_reg.predict(X_test)))\n",
        "\n",
        "print(accuracy_score(y_test, predicted))\n",
        "\n",
        "# returns an array of weights for the hypothesis function\n",
        "print(lin_reg.coef_)\n",
        "print(lin_reg.intercept_) # Y intercept of the hypothesis function\n",
        "\n",
        "print(X_test)\n",
        "print(y_test)\n",
        "\n",
        "for i in range(len(predicted)):\n",
        "  print(f\"PREDICTED:{round(predicted[i])} , Actual:{list(y_test)[i]}\")"
      ]
    },
    {
      "cell_type": "code",
      "source": [
        "import numpy as np\n",
        "\n",
        "# Saved model can be retrieved\n",
        "model = pickle.load(open(\"model\", 'rb'))\n",
        "\n",
        "# put in the values of the different labeles (eg. traveltime = 0, studytime = 3 ....)\n",
        "sample_tuple = [[1,6,0,4,15,16]]\n",
        "\n",
        "tuple_df = pd.DataFrame(sample_tuple, columns=[\"traveltime\", \"studytime\", \"failures\", \"absences\", \"G1\", \"G2\"])\n",
        "\n",
        "val = model.predict(tuple_df)\n",
        "\n",
        "print(val[0])"
      ],
      "metadata": {
        "id": "Gr3_GaPSO4gq",
        "colab": {
          "base_uri": "https://localhost:8080/"
        },
        "outputId": "40bc0740-eba4-4ed8-e229-0f33b41bef3c"
      },
      "execution_count": null,
      "outputs": [
        {
          "output_type": "stream",
          "name": "stdout",
          "text": [
            "16.099171699165005\n"
          ]
        }
      ]
    }
  ]
}