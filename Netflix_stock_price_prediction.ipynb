{
  "nbformat": 4,
  "nbformat_minor": 0,
  "metadata": {
    "colab": {
      "name": "Netflix stock price prediction",
      "provenance": [],
      "collapsed_sections": [],
      "authorship_tag": "ABX9TyMDVflGdb8keJ8xhUGDgknk",
      "include_colab_link": true
    },
    "kernelspec": {
      "name": "python3",
      "display_name": "Python 3"
    },
    "language_info": {
      "name": "python"
    }
  },
  "cells": [
    {
      "cell_type": "markdown",
      "metadata": {
        "id": "view-in-github",
        "colab_type": "text"
      },
      "source": [
        "<a href=\"https://colab.research.google.com/github/OmPanchal/Linear-Regression/blob/main/Netflix_stock_price_prediction.ipynb\" target=\"_parent\"><img src=\"https://colab.research.google.com/assets/colab-badge.svg\" alt=\"Open In Colab\"/></a>"
      ]
    },
    {
      "cell_type": "code",
      "execution_count": null,
      "metadata": {
        "id": "P-vj_Uo9bHlr"
      },
      "outputs": [],
      "source": [
        "from sklearn.base import TransformerMixin\n",
        "import pandas as pd\n",
        "import sklearn.model_selection as model_selection\n",
        "import sklearn.linear_model as lm\n",
        "from sklearn import linear_model\n",
        "from sklearn.metrics import accuracy_score\n",
        "import numpy as np\n",
        "import pickle\n",
        "\n",
        "# Calculates the accurcay by rounding the values\n",
        "def accuracy(predicted, actual):\n",
        "  correct = 0\n",
        "\n",
        "  for i in range(len(predicted)):\n",
        "    HIGHP, LOWP = round(predicted[i][0]), round(predicted[i][1])\n",
        "    HIGHA, LOWA = round(actual[i][0]), round(actual[i][1])\n",
        "\n",
        "    if HIGHP == HIGHA:\n",
        "      correct += 1\n",
        "\n",
        "    if LOWP == LOWA:\n",
        "      correct += 1\n",
        "  acc = correct / (len(predicted)*2)\n",
        "  return acc\n",
        "\n",
        "# Calculates the average innacuracies from each of the predictions\n",
        "def mean_inaccuracy(predicted, actual):\n",
        "  total = 0\n",
        "\n",
        "  for i in range(len(predicted)):\n",
        "    HIGHP, LOWP = predicted[i][0], predicted[i][1]\n",
        "    HIGHA, LOWA = actual[i][0], actual[i][1]\n",
        "\n",
        "    LOWDIFFERENCE = LOWA - LOWP\n",
        "    HIGHDIFFERENCE = HIGHA - HIGHP\n",
        "\n",
        "    total += LOWDIFFERENCE + HIGHDIFFERENCE\n",
        "  inacc = total / (len(predicted)*2)\n",
        "\n",
        "  return inacc\n",
        "\n",
        "df = pd.read_csv(\"Netflix_stock_history.csv\")\n",
        "X = df[[\"Open\", \"Close\", \"Volume\"]]\n",
        "Y = df[[\"High\", \"Low\"]]\n",
        "\n",
        "Xtrain, Xtest, Ytrain, Ytest = model_selection.train_test_split(X, Y, test_size=0.3, shuffle=True)\n",
        "\n",
        "model = lm.LinearRegression()\n",
        "model.fit(Xtrain, Ytrain)\n",
        "predicted = model.predict(Xtest)\n",
        "\n",
        "# Dump model into pickle file\n",
        "pickle.dump(model, open(\"model\", 'wb'))\n",
        "\n",
        "# Model Details\n",
        "TRAIN_ACCURACY = model.score(Xtrain, Ytrain)\n",
        "TRAIN_COEF = model.coef_\n",
        "TRAIN_INTERCEPT = model.intercept_\n",
        "\n",
        "print(f\"TRAIN ACCURACY: {TRAIN_ACCURACY}\") \n",
        "print(f\"TRAIN COEF: {TRAIN_COEF}\")\n",
        "print(f\"TRAIN INTERCEPT: {TRAIN_INTERCEPT}\\n\")\n",
        "\n",
        "# Prints the each of the predictions and corresponding acctual values\n",
        "arr_actual = Ytest.to_numpy()\n",
        "\n",
        "for i in range(len(predicted)):\n",
        "  HIGHP, LOWP = predicted[i][0], predicted[i][1]\n",
        "  HIGHA, LOWA = arr_actual[i][0], arr_actual[i][1]\n",
        "\n",
        "  print(f\"PREDICTION DIFFERENCE LOW (INACCURACIES): {LOWA - LOWP}\")\n",
        "  print(f\"PREDICTION DIFFERENCE HIGH (INACCURACIES): {HIGHA - HIGHP}\")\n",
        "\n",
        "  print(f\"PREDICTED LOW: {LOWP}, ACTUAL LOW: {LOWA}\")\n",
        "  print(f\"PREDICTED HIGH: {HIGHP}, ACTUAL HIGH: {HIGHA}\\n\")\n",
        "\n",
        "# Accuracy and Man inaccuracy\n",
        "accuracy = accuracy(predicted, arr_actual)\n",
        "print(f\"ACCURACY (COMPARED WITH ROUNDED VALUES): {accuracy}\")\n",
        "\n",
        "inaccuracy = mean_inaccuracy(predicted, arr_actual)\n",
        "print(f\"AVERAGE INNACURACY (MOST PREDICTIONS ARE OFF BY): {inaccuracy}\")"
      ]
    },
    {
      "cell_type": "code",
      "source": [
        "imported_model = pickle.load(open(\"model\", \"rb\"))\n",
        "\n",
        "data_arr = [[253.12, 258.123, 8172673]] # [OPEN, CLOSE, VOLUME]\n",
        "\n",
        "tuple_df = pd.DataFrame(data_arr, columns=[\"Open\", \"Close\", \"Volume\"])\n",
        "\n",
        "prediction = model.predict(tuple_df)\n",
        "prediction_high = prediction[0][0]\n",
        "prediction_low = prediction[0][1]\n",
        "\n",
        "print(f\"PREDICTED HIGH: {prediction_high}, PREDICTION LOW: {prediction_low}\")"
      ],
      "metadata": {
        "id": "3PgLQZRlprjc",
        "colab": {
          "base_uri": "https://localhost:8080/"
        },
        "outputId": "fab4844c-b62c-431d-f764-3e53e26483b8"
      },
      "execution_count": 68,
      "outputs": [
        {
          "output_type": "stream",
          "name": "stdout",
          "text": [
            "PREDICTED HIGH: 259.1268369728514, PREDICTION LOW: 251.94381906399\n"
          ]
        }
      ]
    }
  ]
}